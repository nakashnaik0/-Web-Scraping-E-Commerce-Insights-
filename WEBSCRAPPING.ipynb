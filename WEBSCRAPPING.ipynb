{
 "cells": [
  {
   "cell_type": "code",
   "execution_count": 3,
   "id": "e7788c5f-45b9-4bfa-9cde-97cf78d117e9",
   "metadata": {},
   "outputs": [],
   "source": [
    "import pandas as pd\n",
    "import numpy as np\n",
    "import matplotlib.pyplot as plt\n",
    "import seaborn as sns\n",
    "\n"
   ]
  },
  {
   "cell_type": "markdown",
   "id": "0b9bb99b-696f-477e-8ab3-d8066968b8ba",
   "metadata": {},
   "source": [
    "#all the lib"
   ]
  },
  {
   "cell_type": "code",
   "execution_count": 4,
   "id": "87df8a82-27e0-4e57-918f-573ab57d7d50",
   "metadata": {},
   "outputs": [],
   "source": [
    "from sklearn.preprocessing import LabelEncoder\n",
    "from sklearn.model_selection import train_test_split\n",
    "from sklearn.linear_model import LogisticRegression\n",
    "from sklearn.metrics import accuracy_score, classification_report\n"
   ]
  },
  {
   "cell_type": "markdown",
   "id": "d6abf6c6-8b96-45a4-ad7a-e85c5b9dc2dd",
   "metadata": {},
   "source": [
    " ##scikit-learn, used for:\n",
    "\n",
    "Encoding categorical text\n",
    "\n",
    "Splitting data into train/test\n",
    "\n",
    "Building & evaluating the model"
   ]
  },
  {
   "cell_type": "code",
   "execution_count": 5,
   "id": "ce4a0379-c801-46bb-b089-5bdf03bc8f03",
   "metadata": {},
   "outputs": [],
   "source": [
    "np.random.seed(42)\n"
   ]
  },
  {
   "cell_type": "markdown",
   "id": "734c1c11-cff8-4181-8e61-081df31d7b83",
   "metadata": {},
   "source": [
    "ensures results are repeatable every time the code runs."
   ]
  },
  {
   "cell_type": "code",
   "execution_count": 6,
   "id": "88152265-604d-45c6-8f38-1471b2a7c292",
   "metadata": {},
   "outputs": [],
   "source": [
    "brands = ['HP', 'Dell', 'Lenovo', 'Asus', 'Acer', 'MSI', 'Apple']\n"
   ]
  },
  {
   "cell_type": "markdown",
   "id": "8b5b57df-2b8d-4ac0-b60c-474fdfeccd03",
   "metadata": {},
   "source": [
    "mulated list of laptop brands"
   ]
  },
  {
   "cell_type": "code",
   "execution_count": 7,
   "id": "85636c35-bd69-4db8-82b3-ca311b120aef",
   "metadata": {},
   "outputs": [],
   "source": [
    "ratings = np.round(np.random.uniform(3.0, 5.0, 100), 1)\n"
   ]
  },
  {
   "cell_type": "markdown",
   "id": "5a5ac16d-e60f-430e-9ca6-907d6a07f112",
   "metadata": {},
   "source": [
    "Simulates 100 random ratings between 3.0 and 5.0\n",
    "\n",
    ".round(1) keeps only one decimal place"
   ]
  },
  {
   "cell_type": "code",
   "execution_count": 8,
   "id": "3c0e4e23-312e-4b8f-a230-4615ddf708dc",
   "metadata": {},
   "outputs": [],
   "source": [
    "prices = np.random.randint(30000, 90000, 100)\n"
   ]
  },
  {
   "cell_type": "markdown",
   "id": "0131aaf7-3304-42d9-aebe-a7a889efdd72",
   "metadata": {},
   "source": [
    "Simulates 100 laptop prices between ₹30,000 and ₹90,000"
   ]
  },
  {
   "cell_type": "code",
   "execution_count": 9,
   "id": "39e93a93-67c6-4c83-967d-35bb37fa406e",
   "metadata": {},
   "outputs": [],
   "source": [
    "brand_choices = np.random.choice(brands, 100)"
   ]
  },
  {
   "cell_type": "markdown",
   "id": "592ad316-b87a-4458-8443-aa08ed1b3526",
   "metadata": {},
   "source": [
    "andomly selects a brand for each of 100 laptops\n"
   ]
  },
  {
   "cell_type": "code",
   "execution_count": 10,
   "id": "045f4832-a149-444f-a5bc-bf3fb9614ac3",
   "metadata": {},
   "outputs": [],
   "source": [
    "titles = [f\"{b} Laptop with i5\" for b in brand_choices]\n"
   ]
  },
  {
   "cell_type": "markdown",
   "id": "33e9f53d-2399-4f07-a305-fab6ae867a39",
   "metadata": {},
   "source": [
    "Simulated product title text (e.g., “Dell Laptop with i5”)"
   ]
  },
  {
   "cell_type": "code",
   "execution_count": 11,
   "id": "6ce210d4-ec56-438f-8655-4551c92af097",
   "metadata": {},
   "outputs": [],
   "source": [
    "df = pd.DataFrame({\n",
    "    \"Title\": titles,\n",
    "    \"Price\": prices,\n",
    "    \"Rating\": ratings,\n",
    "    \"Brand\": brand_choices\n",
    "})\n"
   ]
  },
  {
   "cell_type": "markdown",
   "id": "2fcdb29a-42af-4775-b483-5775210303d1",
   "metadata": {},
   "source": [
    "Creates the final product listings table\n",
    "(like scraped Flipkart data but simulated)"
   ]
  },
  {
   "cell_type": "code",
   "execution_count": 17,
   "id": "f493a69e-0c0a-4147-add0-f8d1b14338b4",
   "metadata": {},
   "outputs": [],
   "source": [
    "def simulate_click(row):\n",
    "    if row[\"Price\"] < 50000 and row[\"Rating\"] >= 4.2:\n",
    "        return np.random.choice([1, 0], p=[0.75, 0.25])\n",
    "    elif row[\"Rating\"] >= 4.0:\n",
    "        return np.random.choice([1, 0], p=[0.6, 0.4])\n",
    "    else:\n",
    "        return np.random.choice([1, 0], p=[0.3, 0.7])\n",
    "\n"
   ]
  },
  {
   "cell_type": "markdown",
   "id": "ab67d908-a391-4462-969b-d55172714fbd",
   "metadata": {},
   "source": [
    "If product is affordable + highly rated, high click chance (75%),\n",
    "if only rating is good, still decent chance (60%),\n",
    "If rating is low, chance drops to 30%."
   ]
  },
  {
   "cell_type": "code",
   "execution_count": 18,
   "id": "d8ab47f2-0f58-494d-a710-86b1fc5f7869",
   "metadata": {},
   "outputs": [],
   "source": [
    "df[\"Clicked\"] = df.apply(simulate_click, axis=1)    "
   ]
  },
  {
   "cell_type": "markdown",
   "id": "e3c9a17a-e3aa-4b11-8102-3b266f675d75",
   "metadata": {},
   "source": [
    "Applies this logic to every row → adds a \"Clicked\" column"
   ]
  },
  {
   "cell_type": "code",
   "execution_count": 20,
   "id": "22615463-cff4-42a5-88bd-52fb118a98e5",
   "metadata": {},
   "outputs": [],
   "source": [
    "le = LabelEncoder()\n",
    "df[\"Brand_encoded\"] = le.fit_transform(df[\"Brand\"])\n"
   ]
  },
  {
   "cell_type": "markdown",
   "id": "1b7b8f10-1768-486e-9159-e7767e2eb26c",
   "metadata": {},
   "source": [
    "Converts brand names into numeric labels (ML needs numbers)\n",
    "\n"
   ]
  },
  {
   "cell_type": "code",
   "execution_count": 21,
   "id": "ca56bce5-8353-4272-8389-c0d08c745455",
   "metadata": {},
   "outputs": [],
   "source": [
    "X = df[[\"Price\", \"Rating\", \"Brand_encoded\"]]  # Features\n",
    "y = df[\"Clicked\"]  # Target\n",
    "\n",
    "X_train, X_test, y_train, y_test = train_test_split(\n",
    "    X, y, test_size=0.2, random_state=42\n",
    ")\n"
   ]
  },
  {
   "cell_type": "markdown",
   "id": "2fbb3e64-084a-4dac-ad7b-fe587d1cb907",
   "metadata": {},
   "source": [
    "splits data: 80% for training, 20% for testi\n"
   ]
  },
  {
   "cell_type": "code",
   "execution_count": 22,
   "id": "ec196cf9-e7b2-4488-9157-73f358854fc1",
   "metadata": {},
   "outputs": [],
   "source": [
    "model = LogisticRegression()\n",
    "model.fit(X_train, y_train)\n",
    "y_pred = model.predict(X_test)\n"
   ]
  },
  {
   "cell_type": "markdown",
   "id": "03ad3f64-df3b-401c-ac27-cb88e74f0b6a",
   "metadata": {},
   "source": [
    "Trains the model & makes predictions on unseen data\n",
    "\n"
   ]
  },
  {
   "cell_type": "code",
   "execution_count": 23,
   "id": "6e7ed236-9b76-4491-a867-d6be72a7029d",
   "metadata": {},
   "outputs": [
    {
     "name": "stdout",
     "output_type": "stream",
     "text": [
      "Accuracy: 0.65\n",
      "              precision    recall  f1-score   support\n",
      "\n",
      "           0       0.67      0.73      0.70        11\n",
      "           1       0.62      0.56      0.59         9\n",
      "\n",
      "    accuracy                           0.65        20\n",
      "   macro avg       0.65      0.64      0.64        20\n",
      "weighted avg       0.65      0.65      0.65        20\n",
      "\n"
     ]
    }
   ],
   "source": [
    "print(\"Accuracy:\", accuracy_score(y_test, y_pred))\n",
    "print(classification_report(y_test, y_pred))\n"
   ]
  },
  {
   "cell_type": "markdown",
   "id": "5074281b-3508-4225-bd9c-e0e0a91882f0",
   "metadata": {},
   "source": [
    "Shows model performance (accuracy, precision, recall, F1-score)\n",
    "\n"
   ]
  },
  {
   "cell_type": "code",
   "execution_count": 29,
   "id": "2933dbd5-71fa-4f00-bb72-1ff2d32611d1",
   "metadata": {},
   "outputs": [
    {
     "data": {
      "image/png": "[encoded data removed]",
      "text/plain": [
       "<Figure size 1000x500 with 1 Axes>"
      ]
     },
     "metadata": {},
     "output_type": "display_data"
    }
   ],
   "source": [
    "brand_click_rate = df.groupby(\"Brand\")[\"Clicked\"].mean().sort_values(ascending=False)\n",
    "plt.figure(figsize=(10, 5))\n",
    "brand_click_rate.plot(kind=\"bar\", color=\"pink\", edgecolor=\"black\")\n",
    "plt.title(\"Click Rate by Brand\")\n",
    "plt.ylabel(\"Click Probability\")\n",
    "plt.xticks(rotation=45)\n",
    "plt.tight_layout()\n",
    "plt.show()"
   ]
  },
  {
   "cell_type": "markdown",
   "id": "ec6c714e-322b-466c-a0ca-0a67e5b3f212",
   "metadata": {},
   "source": [
    "Calculates average click rate per brand, Shows which brands users prefer"
   ]
  },
  {
   "cell_type": "code",
   "execution_count": 26,
   "id": "6978bbb8-ba3c-4018-82b0-0180821c4e62",
   "metadata": {},
   "outputs": [
    {
     "data": {
      "text/plain": [
       "<Axes: xlabel='Rating', ylabel='Count'>"
      ]
     },
     "execution_count": 26,
     "metadata": {},
     "output_type": "execute_result"
    },
    {
     "data": {
      "image/png": "[encoded data removed]",
      "text/plain": [
       "<Figure size 640x480 with 1 Axes>"
      ]
     },
     "metadata": {},
     "output_type": "display_data"
    }
   ],
   "source": [
    "sns.histplot(df[\"Rating\"], kde=True,)"
   ]
  },
  {
   "cell_type": "markdown",
   "id": "03e4b87b-9ab6-41ab-a203-1050472b33fd",
   "metadata": {},
   "source": [
    "Visualizes how ratings are spread (most are 3.5–4.8)"
   ]
  },
  {
   "cell_type": "code",
   "execution_count": 27,
   "id": "31fd28b8-74e8-4194-a87b-ecd35e2285d6",
   "metadata": {},
   "outputs": [
    {
     "data": {
      "text/plain": [
       "<Axes: >"
      ]
     },
     "execution_count": 27,
     "metadata": {},
     "output_type": "execute_result"
    },
    {
     "data": {
      "image/png": "[encoded data removed]",
      "text/plain": [
       "<Figure size 640x480 with 2 Axes>"
      ]
     },
     "metadata": {},
     "output_type": "display_data"
    }
   ],
   "source": [
    "sns.heatmap(df[[\"Price\", \"Rating\", \"Clicked\"]].corr())"
   ]
  },
  {
   "cell_type": "markdown",
   "id": "ee55669f-04a4-4548-b7ce-95ad93f4cc6d",
   "metadata": {},
   "source": [
    "Shows how much each feature affects clicks (correlation)"
   ]
  },
  {
   "cell_type": "code",
   "execution_count": null,
   "id": "5942f37f-a160-4ccc-9d9f-dbf2e042b1c6",
   "metadata": {},
   "outputs": [],
   "source": []
  }
 ],
 "metadata": {
  "kernelspec": {
   "display_name": "Python 3 (ipykernel)",
   "language": "python",
   "name": "python3"
  },
  "language_info": {
   "codemirror_mode": {
    "name": "ipython",
    "version": 3
   },
   "file_extension": ".py",
   "mimetype": "text/x-python",
   "name": "python",
   "nbconvert_exporter": "python",
   "pygments_lexer": "ipython3",
   "version": "3.13.1"
  }
 },
 "nbformat": 4,
 "nbformat_minor": 5
}
